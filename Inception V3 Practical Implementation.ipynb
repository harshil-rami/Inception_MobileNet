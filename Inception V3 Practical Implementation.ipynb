{
 "cells": [
  {
   "attachments": {
    "inception.png": {
     "image/png": "[encoded data removed]"
    }
   },
   "cell_type": "markdown",
   "id": "f6eecb4c",
   "metadata": {},
   "source": [
    "![inception.png](attachment:inception.png)"
   ]
  },
  {
   "cell_type": "code",
   "execution_count": 9,
   "id": "0e2b6fab",
   "metadata": {},
   "outputs": [],
   "source": [
    "import tensorflow as tf\n",
    "from tensorflow.keras.layers import Dense, Conv2D, MaxPooling2D, BatchNormalization, concatenate, Input, Activation\n",
    "from tensorflow.keras.models import Model, Sequential\n",
    "from tensorflow.keras.utils import plot_model"
   ]
  },
  {
   "cell_type": "code",
   "execution_count": 4,
   "id": "9e04fed4",
   "metadata": {},
   "outputs": [],
   "source": [
    "def inception_module(x, f1, f2, f3):\n",
    "    # 1x1 conv\n",
    "    conv1 = Conv2D(f1, (1,1), padding='same', activation='relu')(x)\n",
    "    # 3x3 conv\n",
    "    conv3 = Conv2D(f1, (3,3), padding='same', activation='relu')(x)\n",
    "    # 5x5 conv\n",
    "    conv5 = Conv2D(f1, (5,5), padding='same', activation='relu')(x)\n",
    "    # 3x3 max pooling\n",
    "    pool = MaxPooling2D((3,3), strides=(1,1), padding='same')(x)\n",
    "    # concatenate filters\n",
    "    out = concatenate([conv1, conv3, conv5, pool])\n",
    "    return out"
   ]
  },
  {
   "cell_type": "code",
   "execution_count": 7,
   "id": "ee2d760c",
   "metadata": {},
   "outputs": [
    {
     "name": "stdout",
     "output_type": "stream",
     "text": [
      "Downloading data from https://storage.googleapis.com/tensorflow/keras-applications/inception_v3/inception_v3_weights_tf_dim_ordering_tf_kernels.h5\n",
      "96116736/96112376 [==============================] - 17s 0us/step\n"
     ]
    },
    {
     "data": {
      "text/plain": [
       "<tensorflow.python.keras.engine.functional.Functional at 0x13186290f10>"
      ]
     },
     "execution_count": 7,
     "metadata": {},
     "output_type": "execute_result"
    }
   ],
   "source": [
    "# Downloading Inception V3 Imagenet Weights\n",
    "tf.keras.applications.InceptionV3(\n",
    "    include_top=True,\n",
    "    weights=\"imagenet\",\n",
    "    input_tensor=None,\n",
    "    input_shape=None,\n",
    "    pooling=None,\n",
    "    classes=1000,\n",
    "    classifier_activation=\"softmax\",\n",
    ")\n"
   ]
  },
  {
   "cell_type": "code",
   "execution_count": 8,
   "id": "d7dfd16d",
   "metadata": {},
   "outputs": [],
   "source": [
    "img_input = Input(shape=(299,299,3))\n",
    "classes = 1000\n",
    "WEIGHTS_PATH = 'inception_v3_weights_tf_dim_ordering_tf_kernels.h5'\n",
    "channel_axis=3"
   ]
  },
  {
   "cell_type": "code",
   "execution_count": 10,
   "id": "c6a50650",
   "metadata": {},
   "outputs": [],
   "source": [
    "def conv2d_bn(x, filters, num_row, num_col, padding='same', strides=(1,1)):\n",
    "    \n",
    "    x = Conv2D(filters, (num_row,num_col), strides=strides, padding=padding)(x)\n",
    "    x = BatchNormalization(axis=3, scale=False)(x)\n",
    "    x = Activation('relu')(x)\n",
    "    return x"
   ]
  },
  {
   "cell_type": "markdown",
   "id": "29dc5494",
   "metadata": {},
   "source": [
    "### Building a model layer by layer"
   ]
  },
  {
   "cell_type": "code",
   "execution_count": null,
   "id": "131e81f6",
   "metadata": {},
   "outputs": [],
   "source": [
    "# input image size: 299 x 299 x 3\n",
    "x = conv2d_bn(img_input, 32, 3, 3, strides=(2,2), padding='valid')\n",
    "x = conv2d_bn(x, 32, 3, 3, padding='valid')\n",
    "x = conv2d_bn(x, 64, 3, 3)\n",
    "x = MaxPooling2D((3,3), strides=(2,2))(x)\n",
    "\n",
    "x = conv2d_bn(x, 80, 1, 1, padding='valid')\n",
    "x = conv2d_bn(x, 192, 1, 1, padding='valid')\n",
    "\n",
    "x = MaxPooling2D((3,3), strides=(2,2))(x)\n",
    "\n",
    "\n",
    "x = inc_block_a(x)\n",
    "x = inc_block_a(x)\n",
    "x = inc_block_a(x)\n",
    "\n",
    "x = reduction_block_a(x)"
   ]
  }
 ],
 "metadata": {
  "kernelspec": {
   "display_name": "GPUEnv",
   "language": "python",
   "name": "gpuenv"
  },
  "language_info": {
   "codemirror_mode": {
    "name": "ipython",
    "version": 3
   },
   "file_extension": ".py",
   "mimetype": "text/x-python",
   "name": "python",
   "nbconvert_exporter": "python",
   "pygments_lexer": "ipython3",
   "version": "3.9.5"
  }
 },
 "nbformat": 4,
 "nbformat_minor": 5
}
